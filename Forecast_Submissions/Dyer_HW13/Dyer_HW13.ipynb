{
 "cells": [
  {
   "cell_type": "markdown",
   "metadata": {},
   "source": [
    "# Assignment 13: Jupyter Notebook Forecast\n",
    "### The purpose of this notebook is to produce my week 13 forecast and showcase what I've learned since starting this course\n",
    "### By Kevin Dyer\n",
    "\n",
    "__________________________________________________________________________________"
   ]
  },
  {
   "cell_type": "markdown",
   "metadata": {},
   "source": [
    "## Grade\n",
    "- **Readability: 3/3** Great job commenting! I love the narrative you added it was really easy to follow along with your code at every step of the way. \n",
    "- **Style: 3/3**  Nice work, good job naming variables and writing clean code. \n",
    "- **Code: 2.5/3** Awesome! I like the new package you learned how to work with and the plots you made. Also nice work with the function and showing how you can make your forecast interactive. I just subtracted 0.5 because the paths to the mapping data didn't work so I couldn't make the map. "
   ]
  },
  {
   "cell_type": "code",
   "execution_count": 2,
   "metadata": {},
   "outputs": [],
   "source": [
    "import pandas as pd\n",
    "import numpy as np\n",
    "import matplotlib.pyplot as plt\n",
    "import xarray as xr\n",
    "import rioxarray\n",
    "import cartopy.crs as ccrs\n",
    "import cartopy.feature as cfeature\n",
    "import seaborn as sns\n",
    "import geopandas as gpd\n",
    "import fiona\n",
    "import shapely\n",
    "from netCDF4 import Dataset\n",
    "import matplotlib.dates as dates\n",
    "import scipy.stats as sp\n",
    "import scipy.optimize as op\n",
    "import statsmodels.api as sm\n",
    "import ulmo\n",
    "import datetime\n",
    "import os\n",
    "import fiona\n",
    "import logging\n",
    "from shapely.geometry import Point\n",
    "import contextily as ctx\n",
    "import datetime\n",
    "from matplotlib.dates import DateFormatter\n",
    "from matplotlib.dates import DateFormatter\n",
    "from matplotlib.backends.backend_pdf import PdfPages\n",
    "from matplotlib.pyplot import cm \n",
    "from pylab import rcParams\n",
    "rcParams['figure.figsize'] = 15, 10"
   ]
  },
  {
   "cell_type": "markdown",
   "metadata": {},
   "source": [
    "### First I import my packages. Besides the standard packages we've been loading in since the beginning, I've also added the packages ulmo and scipy which are necessary for the code I got from the Ipython notebook gallery for my analysis later."
   ]
  },
  {
   "cell_type": "code",
   "execution_count": 3,
   "metadata": {},
   "outputs": [],
   "source": [
    "flow_url = \"https://waterdata.usgs.gov/nwis/dv?cb_00060=on&format=rdb\" \\\n",
    "           \"&site_no=09506000&referred_module=sw\" \\\n",
    "           \"&period=&begin_date=1989-01-01&end_date=2021-11-20\"\n",
    "flow_data = pd.read_table(flow_url, sep='\\t', skiprows=30,\n",
    "                          names=['agency_cd', 'site_no', 'datetime', 'flow',\n",
    "                                 'code'], parse_dates=['datetime'])"
   ]
  },
  {
   "cell_type": "markdown",
   "metadata": {},
   "source": [
    "### I now import the stream flow data using an api, directly from the USGS website. I format the data to remove the first 30 rows of from the data, which aren't pertinent information."
   ]
  },
  {
   "cell_type": "code",
   "execution_count": 4,
   "metadata": {},
   "outputs": [
    {
     "name": "stdout",
     "output_type": "stream",
     "text": [
      "Iteration 0 Day= 1 Flow= 154.5\n",
      "Iteration 1 Day= 2 Flow= 154.5\n",
      "Iteration 2 Day= 3 Flow= 156.5\n",
      "Iteration 3 Day= 4 Flow= 154.5\n",
      "Iteration 4 Day= 5 Flow= 153.0\n",
      "Iteration 5 Day= 6 Flow= 156.5\n",
      "Iteration 6 Day= 7 Flow= 160.0\n",
      "Iteration 7 Day= 8 Flow= 160.0\n",
      "Iteration 8 Day= 9 Flow= 159.5\n",
      "Iteration 9 Day= 10 Flow= 154.0\n",
      "Iteration 10 Day= 11 Flow= 159.5\n",
      "Iteration 11 Day= 12 Flow= 166.5\n",
      "Iteration 12 Day= 13 Flow= 166.5\n",
      "Iteration 13 Day= 14 Flow= 167.5\n",
      "Iteration 14 Day= 15 Flow= 167.5\n",
      "Iteration 15 Day= 16 Flow= 169.5\n",
      "Iteration 16 Day= 17 Flow= 170.5\n",
      "Iteration 17 Day= 18 Flow= 174.5\n",
      "Iteration 18 Day= 19 Flow= 166.5\n",
      "Iteration 19 Day= 20 Flow= 168.5\n",
      "Iteration 20 Day= 21 Flow= 167.0\n",
      "Iteration 21 Day= 22 Flow= 161.0\n",
      "Iteration 22 Day= 23 Flow= 163.0\n",
      "Iteration 23 Day= 24 Flow= 169.0\n",
      "Iteration 24 Day= 25 Flow= 163.0\n",
      "Iteration 25 Day= 26 Flow= 159.0\n",
      "Iteration 26 Day= 27 Flow= 166.0\n",
      "Iteration 27 Day= 28 Flow= 174.0\n",
      "Iteration 28 Day= 29 Flow= 180.0\n",
      "Iteration 29 Day= 30 Flow= 178.0\n",
      "Iteration 30 Day= 31 Flow= 173.5\n"
     ]
    }
   ],
   "source": [
    "# Expand the dates to year month day, set index as base datetime\n",
    "flow_data['year'] = pd.DatetimeIndex(flow_data['datetime']).year\n",
    "flow_data['month'] = pd.DatetimeIndex(flow_data['datetime']).month\n",
    "flow_data['day'] = pd.DatetimeIndex(flow_data['datetime']).day\n",
    "flow_data['dayofweek'] = pd.DatetimeIndex(flow_data['datetime']).dayofweek\n",
    "flow_data = flow_data.set_index('datetime')\n",
    "\n",
    "month_median = np.zeros(31)\n",
    "for d in range(31):\n",
    "        daytemp = d+1\n",
    "        tempdata = flow_data[(flow_data['year']) & (flow_data['month']) & (flow_data['day'] == daytemp)]\n",
    "        month_median[d] = np.median(tempdata['flow'])\n",
    "        print('Iteration', d, 'Day=', daytemp, 'Flow=', month_median[d])"
   ]
  },
  {
   "cell_type": "markdown",
   "metadata": {},
   "source": [
    "### I now expand the dates to year, month, and day and set the index to base datetime.\n",
    "\n",
    "### I also create an array for every day in a given month, from day 1 to 31, and set all those days to having a value of zero for now. Then I use the USGS flow data to find the median flow for every day of a given month from January 1st, 1989 to November 20th, 2021.\n",
    "\n",
    "### The output is this median flow in cubic feet per seconds."
   ]
  },
  {
   "cell_type": "code",
   "execution_count": 5,
   "metadata": {},
   "outputs": [
    {
     "name": "stdout",
     "output_type": "stream",
     "text": [
      "Iteration 30 Day= 31 Flow= 173.5\n"
     ]
    }
   ],
   "source": [
    "def flow_median(startyear, month, daysinmonth, flow_data):\n",
    "        '''\n",
    "        This function determines the median flow for any month, day, or year in the range of the data.\n",
    "\n",
    "        Parameters:\n",
    "        \"month\" represents the number of the month you want, int (October = 10)\n",
    "        \"startyear\" the year range you want, int (year =< 2021)\n",
    "        \"daysinmonth\" represents the amount of days in month, which for October, is 31.\n",
    "        \"flow_data\" is my dataframe\n",
    "\n",
    "        Output:\n",
    "        This function returns a print statement that provides the median flow of that range\n",
    "        '''\n",
    "        flow_median = np.zeros(daysinmonth)\n",
    "        for d in range(daysinmonth):\n",
    "                daytemp = d+1\n",
    "                tempdata = flow_data[(flow_data['year']>=startyear) & (flow_data['month'] == month) & (flow_data['day'] == daytemp)]\n",
    "                flow_median[d] = np.median(tempdata['flow'])\n",
    "        return flow_median\n",
    "\n",
    "print('Iteration', d,'Day=', daytemp, 'Flow=', month_median[d])"
   ]
  },
  {
   "cell_type": "markdown",
   "metadata": {},
   "source": [
    "### Now comes my function. What it does essentially is output the median flow for the date range you input. \"Month\" represents the number of the month you want to analyze (ie October = 10). \"Startyear\" represents the 4 digit year you want to start the anaysis from. \"Daysinmonth\" is the number of days in the month you're analyzing (ie 31 for October). And finally, \"flow_data\" which represents my dataframe."
   ]
  },
  {
   "cell_type": "code",
   "execution_count": 6,
   "metadata": {},
   "outputs": [
    {
     "name": "stdout",
     "output_type": "stream",
     "text": [
      "[126.  127.  127.5 133.5 137.  138.5 138.5 140.  142.  141.  142.5 144.5\n",
      " 144.5 145.  147.  148.  152.  149.5 155.  156.  160.  163.  163.  164.\n",
      " 164.  162.  165.  167.  164.  169. ]\n"
     ]
    }
   ],
   "source": [
    "startyear = 2016\n",
    "month = 11\n",
    "daysinmonth = 30\n",
    "\n",
    "flow_subset = flow_median(startyear, month, daysinmonth, flow_data)\n",
    "\n",
    "print(flow_subset)"
   ]
  },
  {
   "cell_type": "markdown",
   "metadata": {},
   "source": [
    "### This is where manipulation and analysis through my function can be done. By changing the values of the variables \"startyear\", \"Month\", and \"Daysinmonth\" one can analyze any month's median flowrate for any given day since 1989. And, through using the \"Startyear\" variable, one can even narrow down analyses to only include more recent years, accounting for the changing climate. "
   ]
  },
  {
   "cell_type": "code",
   "execution_count": 7,
   "metadata": {},
   "outputs": [
    {
     "name": "stdout",
     "output_type": "stream",
     "text": [
      "My one week prediction for average flow is 164.14285714285714 ft^3/s, and my two week prediction is 147.5 ft^3/s. Both predictions are based off the median flow rates of Camp Verde from the Month of October since 2011. The 1 week prediction is the max of this subset of data due to the unusually high amount of rainfall recently, and the two week preidction is the median of this subset of data.\n"
     ]
    }
   ],
   "source": [
    "print('My one week prediction for average flow is', np.mean(flow_subset[22:29]), \\\n",
    "        'ft^3/s, and my two week prediction is', np.median(flow_subset), \\\n",
    "        'ft^3/s. Both predictions are based off the median flow rates of Camp Verde from the Month of October since 2011. The 1 week prediction is the max of this subset of data due to the unusually high amount of rainfall recently, and the two week preidction is the median of this subset of data.')"
   ]
  },
  {
   "cell_type": "markdown",
   "metadata": {},
   "source": [
    "### I then take the mean of the days representing the week I'm analyzing (from the 22nd till the 28th for Week 13), and the median for the entire month to get my 2-week forecast. All of this is then written into a print statement that clearly states my methodology and reasoning.\n",
    "\n",
    "### I've changed my forecasting function slightly over time. Recently I've made my 1-week flow take the mean of the historic flow data from the flow_subset between the days I'm currently predicting for."
   ]
  },
  {
   "cell_type": "code",
   "execution_count": 8,
   "metadata": {},
   "outputs": [
    {
     "name": "stderr",
     "output_type": "stream",
     "text": [
      "../../data/gagesII_9322_point_shapefile/gagesII_9322_sept30_2011.shp: No such file or directory\n"
     ]
    },
    {
     "ename": "DriverError",
     "evalue": "../../data/gagesII_9322_point_shapefile/gagesII_9322_sept30_2011.shp: No such file or directory",
     "output_type": "error",
     "traceback": [
      "\u001b[0;31m---------------------------------------------------------------------------\u001b[0m",
      "\u001b[0;31mCPLE_OpenFailedError\u001b[0m                      Traceback (most recent call last)",
      "\u001b[0;32mfiona/_shim.pyx\u001b[0m in \u001b[0;36mfiona._shim.gdal_open_vector\u001b[0;34m()\u001b[0m\n",
      "\u001b[0;32mfiona/_err.pyx\u001b[0m in \u001b[0;36mfiona._err.exc_wrap_pointer\u001b[0;34m()\u001b[0m\n",
      "\u001b[0;31mCPLE_OpenFailedError\u001b[0m: ../../data/gagesII_9322_point_shapefile/gagesII_9322_sept30_2011.shp: No such file or directory",
      "\nDuring handling of the above exception, another exception occurred:\n",
      "\u001b[0;31mDriverError\u001b[0m                               Traceback (most recent call last)",
      "\u001b[0;32m/var/folders/3w/jbn7kjwj0vl22h500w7bkfqh0000gn/T/ipykernel_30945/3916635771.py\u001b[0m in \u001b[0;36m<module>\u001b[0;34m\u001b[0m\n\u001b[1;32m      1\u001b[0m file = os.path.join('..','..', 'data',\"gagesII_9322_point_shapefile\",\n\u001b[1;32m      2\u001b[0m                     'gagesII_9322_sept30_2011.shp')\n\u001b[0;32m----> 3\u001b[0;31m \u001b[0mgages\u001b[0m \u001b[0;34m=\u001b[0m \u001b[0mgpd\u001b[0m\u001b[0;34m.\u001b[0m\u001b[0mread_file\u001b[0m\u001b[0;34m(\u001b[0m\u001b[0mfile\u001b[0m\u001b[0;34m)\u001b[0m\u001b[0;34m\u001b[0m\u001b[0;34m\u001b[0m\u001b[0m\n\u001b[0m",
      "\u001b[0;32m~/opt/miniconda3/envs/hastools/lib/python3.8/site-packages/geopandas/io/file.py\u001b[0m in \u001b[0;36m_read_file\u001b[0;34m(filename, bbox, mask, rows, **kwargs)\u001b[0m\n\u001b[1;32m    199\u001b[0m \u001b[0;34m\u001b[0m\u001b[0m\n\u001b[1;32m    200\u001b[0m     \u001b[0;32mwith\u001b[0m \u001b[0mfiona_env\u001b[0m\u001b[0;34m(\u001b[0m\u001b[0;34m)\u001b[0m\u001b[0;34m:\u001b[0m\u001b[0;34m\u001b[0m\u001b[0;34m\u001b[0m\u001b[0m\n\u001b[0;32m--> 201\u001b[0;31m         \u001b[0;32mwith\u001b[0m \u001b[0mreader\u001b[0m\u001b[0;34m(\u001b[0m\u001b[0mpath_or_bytes\u001b[0m\u001b[0;34m,\u001b[0m \u001b[0;34m**\u001b[0m\u001b[0mkwargs\u001b[0m\u001b[0;34m)\u001b[0m \u001b[0;32mas\u001b[0m \u001b[0mfeatures\u001b[0m\u001b[0;34m:\u001b[0m\u001b[0;34m\u001b[0m\u001b[0;34m\u001b[0m\u001b[0m\n\u001b[0m\u001b[1;32m    202\u001b[0m \u001b[0;34m\u001b[0m\u001b[0m\n\u001b[1;32m    203\u001b[0m             \u001b[0;31m# In a future Fiona release the crs attribute of features will\u001b[0m\u001b[0;34m\u001b[0m\u001b[0;34m\u001b[0m\u001b[0;34m\u001b[0m\u001b[0m\n",
      "\u001b[0;32m~/opt/miniconda3/envs/hastools/lib/python3.8/site-packages/fiona/env.py\u001b[0m in \u001b[0;36mwrapper\u001b[0;34m(*args, **kwargs)\u001b[0m\n\u001b[1;32m    406\u001b[0m     \u001b[0;32mdef\u001b[0m \u001b[0mwrapper\u001b[0m\u001b[0;34m(\u001b[0m\u001b[0;34m*\u001b[0m\u001b[0margs\u001b[0m\u001b[0;34m,\u001b[0m \u001b[0;34m**\u001b[0m\u001b[0mkwargs\u001b[0m\u001b[0;34m)\u001b[0m\u001b[0;34m:\u001b[0m\u001b[0;34m\u001b[0m\u001b[0;34m\u001b[0m\u001b[0m\n\u001b[1;32m    407\u001b[0m         \u001b[0;32mif\u001b[0m \u001b[0mlocal\u001b[0m\u001b[0;34m.\u001b[0m\u001b[0m_env\u001b[0m\u001b[0;34m:\u001b[0m\u001b[0;34m\u001b[0m\u001b[0;34m\u001b[0m\u001b[0m\n\u001b[0;32m--> 408\u001b[0;31m             \u001b[0;32mreturn\u001b[0m \u001b[0mf\u001b[0m\u001b[0;34m(\u001b[0m\u001b[0;34m*\u001b[0m\u001b[0margs\u001b[0m\u001b[0;34m,\u001b[0m \u001b[0;34m**\u001b[0m\u001b[0mkwargs\u001b[0m\u001b[0;34m)\u001b[0m\u001b[0;34m\u001b[0m\u001b[0;34m\u001b[0m\u001b[0m\n\u001b[0m\u001b[1;32m    409\u001b[0m         \u001b[0;32melse\u001b[0m\u001b[0;34m:\u001b[0m\u001b[0;34m\u001b[0m\u001b[0;34m\u001b[0m\u001b[0m\n\u001b[1;32m    410\u001b[0m             \u001b[0;32mif\u001b[0m \u001b[0misinstance\u001b[0m\u001b[0;34m(\u001b[0m\u001b[0margs\u001b[0m\u001b[0;34m[\u001b[0m\u001b[0;36m0\u001b[0m\u001b[0;34m]\u001b[0m\u001b[0;34m,\u001b[0m \u001b[0mstr\u001b[0m\u001b[0;34m)\u001b[0m\u001b[0;34m:\u001b[0m\u001b[0;34m\u001b[0m\u001b[0;34m\u001b[0m\u001b[0m\n",
      "\u001b[0;32m~/opt/miniconda3/envs/hastools/lib/python3.8/site-packages/fiona/__init__.py\u001b[0m in \u001b[0;36mopen\u001b[0;34m(fp, mode, driver, schema, crs, encoding, layer, vfs, enabled_drivers, crs_wkt, **kwargs)\u001b[0m\n\u001b[1;32m    254\u001b[0m \u001b[0;34m\u001b[0m\u001b[0m\n\u001b[1;32m    255\u001b[0m         \u001b[0;32mif\u001b[0m \u001b[0mmode\u001b[0m \u001b[0;32min\u001b[0m \u001b[0;34m(\u001b[0m\u001b[0;34m'a'\u001b[0m\u001b[0;34m,\u001b[0m \u001b[0;34m'r'\u001b[0m\u001b[0;34m)\u001b[0m\u001b[0;34m:\u001b[0m\u001b[0;34m\u001b[0m\u001b[0;34m\u001b[0m\u001b[0m\n\u001b[0;32m--> 256\u001b[0;31m             c = Collection(path, mode, driver=driver, encoding=encoding,\n\u001b[0m\u001b[1;32m    257\u001b[0m                            layer=layer, enabled_drivers=enabled_drivers, **kwargs)\n\u001b[1;32m    258\u001b[0m         \u001b[0;32melif\u001b[0m \u001b[0mmode\u001b[0m \u001b[0;34m==\u001b[0m \u001b[0;34m'w'\u001b[0m\u001b[0;34m:\u001b[0m\u001b[0;34m\u001b[0m\u001b[0;34m\u001b[0m\u001b[0m\n",
      "\u001b[0;32m~/opt/miniconda3/envs/hastools/lib/python3.8/site-packages/fiona/collection.py\u001b[0m in \u001b[0;36m__init__\u001b[0;34m(self, path, mode, driver, schema, crs, encoding, layer, vsi, archive, enabled_drivers, crs_wkt, ignore_fields, ignore_geometry, **kwargs)\u001b[0m\n\u001b[1;32m    160\u001b[0m             \u001b[0;32mif\u001b[0m \u001b[0mself\u001b[0m\u001b[0;34m.\u001b[0m\u001b[0mmode\u001b[0m \u001b[0;34m==\u001b[0m \u001b[0;34m'r'\u001b[0m\u001b[0;34m:\u001b[0m\u001b[0;34m\u001b[0m\u001b[0;34m\u001b[0m\u001b[0m\n\u001b[1;32m    161\u001b[0m                 \u001b[0mself\u001b[0m\u001b[0;34m.\u001b[0m\u001b[0msession\u001b[0m \u001b[0;34m=\u001b[0m \u001b[0mSession\u001b[0m\u001b[0;34m(\u001b[0m\u001b[0;34m)\u001b[0m\u001b[0;34m\u001b[0m\u001b[0;34m\u001b[0m\u001b[0m\n\u001b[0;32m--> 162\u001b[0;31m                 \u001b[0mself\u001b[0m\u001b[0;34m.\u001b[0m\u001b[0msession\u001b[0m\u001b[0;34m.\u001b[0m\u001b[0mstart\u001b[0m\u001b[0;34m(\u001b[0m\u001b[0mself\u001b[0m\u001b[0;34m,\u001b[0m \u001b[0;34m**\u001b[0m\u001b[0mkwargs\u001b[0m\u001b[0;34m)\u001b[0m\u001b[0;34m\u001b[0m\u001b[0;34m\u001b[0m\u001b[0m\n\u001b[0m\u001b[1;32m    163\u001b[0m             \u001b[0;32melif\u001b[0m \u001b[0mself\u001b[0m\u001b[0;34m.\u001b[0m\u001b[0mmode\u001b[0m \u001b[0;32min\u001b[0m \u001b[0;34m(\u001b[0m\u001b[0;34m'a'\u001b[0m\u001b[0;34m,\u001b[0m \u001b[0;34m'w'\u001b[0m\u001b[0;34m)\u001b[0m\u001b[0;34m:\u001b[0m\u001b[0;34m\u001b[0m\u001b[0;34m\u001b[0m\u001b[0m\n\u001b[1;32m    164\u001b[0m                 \u001b[0mself\u001b[0m\u001b[0;34m.\u001b[0m\u001b[0msession\u001b[0m \u001b[0;34m=\u001b[0m \u001b[0mWritingSession\u001b[0m\u001b[0;34m(\u001b[0m\u001b[0;34m)\u001b[0m\u001b[0;34m\u001b[0m\u001b[0;34m\u001b[0m\u001b[0m\n",
      "\u001b[0;32mfiona/ogrext.pyx\u001b[0m in \u001b[0;36mfiona.ogrext.Session.start\u001b[0;34m()\u001b[0m\n",
      "\u001b[0;32mfiona/_shim.pyx\u001b[0m in \u001b[0;36mfiona._shim.gdal_open_vector\u001b[0;34m()\u001b[0m\n",
      "\u001b[0;31mDriverError\u001b[0m: ../../data/gagesII_9322_point_shapefile/gagesII_9322_sept30_2011.shp: No such file or directory"
     ]
    }
   ],
   "source": [
    "file = os.path.join('..','..', 'data',\"gagesII_9322_point_shapefile\",\n",
    "                    'gagesII_9322_sept30_2011.shp')\n",
    "gages = gpd.read_file(file)\n"
   ]
  },
  {
   "cell_type": "markdown",
   "metadata": {},
   "source": [
    "### I now start to make my map. I first import my map data from the stream gauge shapefiles from the USGS website."
   ]
  },
  {
   "cell_type": "code",
   "execution_count": 9,
   "metadata": {},
   "outputs": [
    {
     "ename": "NameError",
     "evalue": "name 'gages' is not defined",
     "output_type": "error",
     "traceback": [
      "\u001b[0;31m---------------------------------------------------------------------------\u001b[0m",
      "\u001b[0;31mNameError\u001b[0m                                 Traceback (most recent call last)",
      "\u001b[0;32m/var/folders/3w/jbn7kjwj0vl22h500w7bkfqh0000gn/T/ipykernel_30945/1861430608.py\u001b[0m in \u001b[0;36m<module>\u001b[0;34m\u001b[0m\n\u001b[0;32m----> 1\u001b[0;31m \u001b[0mgages\u001b[0m\u001b[0;34m.\u001b[0m\u001b[0mSTATE\u001b[0m\u001b[0;34m.\u001b[0m\u001b[0munique\u001b[0m\u001b[0;34m(\u001b[0m\u001b[0;34m)\u001b[0m\u001b[0;34m\u001b[0m\u001b[0;34m\u001b[0m\u001b[0m\n\u001b[0m\u001b[1;32m      2\u001b[0m \u001b[0mgages_AZ\u001b[0m\u001b[0;34m=\u001b[0m\u001b[0mgages\u001b[0m\u001b[0;34m[\u001b[0m\u001b[0mgages\u001b[0m\u001b[0;34m[\u001b[0m\u001b[0;34m'STATE'\u001b[0m\u001b[0;34m]\u001b[0m\u001b[0;34m==\u001b[0m\u001b[0;34m'AZ'\u001b[0m\u001b[0;34m]\u001b[0m\u001b[0;34m\u001b[0m\u001b[0;34m\u001b[0m\u001b[0m\n\u001b[1;32m      3\u001b[0m \u001b[0;34m\u001b[0m\u001b[0m\n\u001b[1;32m      4\u001b[0m \u001b[0;31m# Reading in a geodataframe\u001b[0m\u001b[0;34m\u001b[0m\u001b[0;34m\u001b[0m\u001b[0;34m\u001b[0m\u001b[0m\n\u001b[1;32m      5\u001b[0m \u001b[0mfile\u001b[0m \u001b[0;34m=\u001b[0m \u001b[0mos\u001b[0m\u001b[0;34m.\u001b[0m\u001b[0mpath\u001b[0m\u001b[0;34m.\u001b[0m\u001b[0mjoin\u001b[0m\u001b[0;34m(\u001b[0m\u001b[0;34m'..'\u001b[0m\u001b[0;34m,\u001b[0m\u001b[0;34m'..'\u001b[0m\u001b[0;34m,\u001b[0m \u001b[0;34m'data'\u001b[0m\u001b[0;34m,\u001b[0m \u001b[0;34m'NHDPLUS_H_1506_HU4_GDB.gdb'\u001b[0m\u001b[0;34m)\u001b[0m\u001b[0;34m\u001b[0m\u001b[0;34m\u001b[0m\u001b[0m\n",
      "\u001b[0;31mNameError\u001b[0m: name 'gages' is not defined"
     ]
    }
   ],
   "source": [
    "gages.STATE.unique()\n",
    "gages_AZ=gages[gages['STATE']=='AZ']\n",
    "\n",
    "# Reading in a geodataframe\n",
    "file = os.path.join('..','..', 'data', 'NHDPLUS_H_1506_HU4_GDB.gdb')\n",
    "fiona.listlayers(file)\n",
    "HUC6 = gpd.read_file(file, layer=\"WBDHU6\")"
   ]
  },
  {
   "cell_type": "markdown",
   "metadata": {},
   "source": [
    "### I then further define my gages object to only include data from Arizona. Next, I import my watershed boundary shapefle I downloaded from NOAA's website. This is the HUC 6 boundary"
   ]
  },
  {
   "cell_type": "code",
   "execution_count": 10,
   "metadata": {},
   "outputs": [
    {
     "ename": "NameError",
     "evalue": "name 'HUC6' is not defined",
     "output_type": "error",
     "traceback": [
      "\u001b[0;31m---------------------------------------------------------------------------\u001b[0m",
      "\u001b[0;31mNameError\u001b[0m                                 Traceback (most recent call last)",
      "\u001b[0;32m/var/folders/3w/jbn7kjwj0vl22h500w7bkfqh0000gn/T/ipykernel_30945/362744854.py\u001b[0m in \u001b[0;36m<module>\u001b[0;34m\u001b[0m\n\u001b[1;32m      9\u001b[0m \u001b[0;31m#map a dataframe of these points\u001b[0m\u001b[0;34m\u001b[0m\u001b[0;34m\u001b[0m\u001b[0;34m\u001b[0m\u001b[0m\n\u001b[1;32m     10\u001b[0m point_df = gpd.GeoDataFrame(point_geom, columns=['geometry'],\n\u001b[0;32m---> 11\u001b[0;31m                             crs=HUC6.crs)\n\u001b[0m",
      "\u001b[0;31mNameError\u001b[0m: name 'HUC6' is not defined"
     ]
    }
   ],
   "source": [
    "# Added points\n",
    "# Stream gauge in Camp Verde:  34.44833333, -111.7891667 and UA: 32.22877495, -110.97688412\n",
    "point_list = np.array([[-111.7891667, 34.44833333],\n",
    "                        [-110.97688412, 32.22877495]])\n",
    "#make these into spatial features\n",
    "point_geom = [Point(xy) for xy in point_list]\n",
    "point_geom\n",
    "\n",
    "#map a dataframe of these points\n",
    "point_df = gpd.GeoDataFrame(point_geom, columns=['geometry'],\n",
    "                            crs=HUC6.crs)"
   ]
  },
  {
   "cell_type": "markdown",
   "metadata": {},
   "source": [
    "### I now add a couple points to my map. One representing the the position of the Camp Verde stream gauge we've been forecasting for, and the other representing the University of Arizona's campus. These points are then made into spatial features and then a dataframe is mapped of these points."
   ]
  },
  {
   "cell_type": "code",
   "execution_count": 11,
   "metadata": {},
   "outputs": [
    {
     "ename": "NameError",
     "evalue": "name 'HUC6' is not defined",
     "output_type": "error",
     "traceback": [
      "\u001b[0;31m---------------------------------------------------------------------------\u001b[0m",
      "\u001b[0;31mNameError\u001b[0m                                 Traceback (most recent call last)",
      "\u001b[0;32m/var/folders/3w/jbn7kjwj0vl22h500w7bkfqh0000gn/T/ipykernel_30945/3485960470.py\u001b[0m in \u001b[0;36m<module>\u001b[0;34m\u001b[0m\n\u001b[1;32m      1\u001b[0m \u001b[0;31m# CRS = Coordinate Reference System\u001b[0m\u001b[0;34m\u001b[0m\u001b[0;34m\u001b[0m\u001b[0;34m\u001b[0m\u001b[0m\n\u001b[0;32m----> 2\u001b[0;31m \u001b[0mHUC6\u001b[0m\u001b[0;34m.\u001b[0m\u001b[0mcrs\u001b[0m\u001b[0;34m\u001b[0m\u001b[0;34m\u001b[0m\u001b[0m\n\u001b[0m\u001b[1;32m      3\u001b[0m \u001b[0mgages\u001b[0m\u001b[0;34m.\u001b[0m\u001b[0mcrs\u001b[0m\u001b[0;34m\u001b[0m\u001b[0;34m\u001b[0m\u001b[0m\n\u001b[1;32m      4\u001b[0m \u001b[0;34m\u001b[0m\u001b[0m\n\u001b[1;32m      5\u001b[0m \u001b[0;31m# Projecting the point\u001b[0m\u001b[0;34m\u001b[0m\u001b[0;34m\u001b[0m\u001b[0;34m\u001b[0m\u001b[0m\n",
      "\u001b[0;31mNameError\u001b[0m: name 'HUC6' is not defined"
     ]
    }
   ],
   "source": [
    "# CRS = Coordinate Reference System\n",
    "HUC6.crs\n",
    "gages.crs\n",
    "\n",
    "# Projecting the point\n",
    "points_project = point_df.to_crs(gages_AZ.crs)\n",
    "\n",
    "HUC6_project = HUC6.to_crs(gages_AZ.crs)"
   ]
  },
  {
   "cell_type": "markdown",
   "metadata": {},
   "source": [
    "### Here I define the coordinate reference system to be used for this map, and project my data points and watershed onto it. This is necessary so that my points are properly geopositioned where they're supposed to be, and not far off somewhere else."
   ]
  },
  {
   "cell_type": "code",
   "execution_count": 12,
   "metadata": {},
   "outputs": [
    {
     "ename": "NameError",
     "evalue": "name 'gages_AZ' is not defined",
     "output_type": "error",
     "traceback": [
      "\u001b[0;31m---------------------------------------------------------------------------\u001b[0m",
      "\u001b[0;31mNameError\u001b[0m                                 Traceback (most recent call last)",
      "\u001b[0;32m/var/folders/3w/jbn7kjwj0vl22h500w7bkfqh0000gn/T/ipykernel_30945/3125889163.py\u001b[0m in \u001b[0;36m<module>\u001b[0;34m\u001b[0m\n\u001b[1;32m      1\u001b[0m \u001b[0mfig\u001b[0m\u001b[0;34m,\u001b[0m \u001b[0max\u001b[0m \u001b[0;34m=\u001b[0m \u001b[0mplt\u001b[0m\u001b[0;34m.\u001b[0m\u001b[0msubplots\u001b[0m\u001b[0;34m(\u001b[0m\u001b[0mfigsize\u001b[0m\u001b[0;34m=\u001b[0m\u001b[0;34m(\u001b[0m\u001b[0;36m7\u001b[0m\u001b[0;34m,\u001b[0m \u001b[0;36m10\u001b[0m\u001b[0;34m)\u001b[0m\u001b[0;34m)\u001b[0m\u001b[0;34m\u001b[0m\u001b[0;34m\u001b[0m\u001b[0m\n\u001b[0;32m----> 2\u001b[0;31m gages_AZ.plot(column='DRAIN_SQKM', categorical=False,\n\u001b[0m\u001b[1;32m      3\u001b[0m               \u001b[0mlegend\u001b[0m\u001b[0;34m=\u001b[0m\u001b[0;32mTrue\u001b[0m\u001b[0;34m,\u001b[0m \u001b[0mmarkersize\u001b[0m\u001b[0;34m=\u001b[0m\u001b[0;36m25\u001b[0m\u001b[0;34m,\u001b[0m \u001b[0mcmap\u001b[0m\u001b[0;34m=\u001b[0m\u001b[0;34m'terrain'\u001b[0m\u001b[0;34m,\u001b[0m\u001b[0;34m\u001b[0m\u001b[0;34m\u001b[0m\u001b[0m\n\u001b[1;32m      4\u001b[0m               ax=ax)\n\u001b[1;32m      5\u001b[0m \u001b[0mpoints_project\u001b[0m\u001b[0;34m.\u001b[0m\u001b[0mplot\u001b[0m\u001b[0;34m(\u001b[0m\u001b[0max\u001b[0m\u001b[0;34m=\u001b[0m\u001b[0max\u001b[0m\u001b[0;34m,\u001b[0m \u001b[0mcolor\u001b[0m\u001b[0;34m=\u001b[0m\u001b[0;34m'red'\u001b[0m\u001b[0;34m,\u001b[0m \u001b[0mmarker\u001b[0m\u001b[0;34m=\u001b[0m\u001b[0;34m'X'\u001b[0m\u001b[0;34m)\u001b[0m\u001b[0;34m\u001b[0m\u001b[0;34m\u001b[0m\u001b[0m\n",
      "\u001b[0;31mNameError\u001b[0m: name 'gages_AZ' is not defined"
     ]
    },
    {
     "data": {
      "image/png": "[encoded data removed]",
      "text/plain": [
       "<Figure size 504x720 with 1 Axes>"
      ]
     },
     "metadata": {
      "needs_background": "light"
     },
     "output_type": "display_data"
    }
   ],
   "source": [
    "fig, ax = plt.subplots(figsize=(7, 10))\n",
    "gages_AZ.plot(column='DRAIN_SQKM', categorical=False,\n",
    "              legend=True, markersize=25, cmap='terrain',\n",
    "              ax=ax)\n",
    "points_project.plot(ax=ax, color='red', marker='X')\n",
    "HUC6_project.boundary.plot(ax=ax, color=None,\n",
    "                           edgecolor='black', linewidth=.3)\n",
    "ctx.add_basemap(ax, crs=gages_AZ.crs, source = ctx.providers.Stamen.Terrain)\n",
    "fig.savefig(\"AZ_Watershed\")"
   ]
  },
  {
   "cell_type": "markdown",
   "metadata": {},
   "source": [
    "### Finally, I have my map. Zoomed into the state of Arizona, You can just make out the HUC6 boundary I used. I set the line thickness to be just thick enough to be seen easily, but not overpowering other map elements. The red 'X's on the map represent the Camp Verde stream gauge and the University of Arizona repectively. The stream gages, seen here sorted by their drainage per square kilometer using the \"terrain\" color map, are seen scattered throughout the general region around our stream gauge in Camp Verde. The entire map is overlayed over the \"stamen.terrain\" basemap. I chose this particular base map because I believed it had the greatest readability whilst not sacrificing the fidelity of the points and watershed boundary lines overlayed on the map.\n",
    "\n",
    "### I chose to make this map to showcase the influences the topography and watershed can have on the flow of the Camp Verde stream gauge."
   ]
  },
  {
   "cell_type": "code",
   "execution_count": 13,
   "metadata": {},
   "outputs": [
    {
     "name": "stdout",
     "output_type": "stream",
     "text": [
      "Populating the interactive namespace from numpy and matplotlib\n"
     ]
    }
   ],
   "source": [
    "%pylab inline"
   ]
  },
  {
   "cell_type": "markdown",
   "metadata": {},
   "source": [
    "### Now I begin using the script I recieved from the python gallery to make some climatography based graphs\n",
    "\n",
    "### Here is the link I used: https://nbviewer.org/github/koldunovn/earthpy.org/blob/master/content/ulmo.ipynb"
   ]
  },
  {
   "cell_type": "code",
   "execution_count": 14,
   "metadata": {},
   "outputs": [],
   "source": [
    "st = ulmo.ncdc.ghcn_daily.get_stations(country='US', as_dataframe=True)"
   ]
  },
  {
   "cell_type": "code",
   "execution_count": 15,
   "metadata": {},
   "outputs": [
    {
     "data": {
      "text/html": [
       "<div>\n",
       "<style scoped>\n",
       "    .dataframe tbody tr th:only-of-type {\n",
       "        vertical-align: middle;\n",
       "    }\n",
       "\n",
       "    .dataframe tbody tr th {\n",
       "        vertical-align: top;\n",
       "    }\n",
       "\n",
       "    .dataframe thead th {\n",
       "        text-align: right;\n",
       "    }\n",
       "</style>\n",
       "<table border=\"1\" class=\"dataframe\">\n",
       "  <thead>\n",
       "    <tr style=\"text-align: right;\">\n",
       "      <th></th>\n",
       "      <th>country</th>\n",
       "      <th>network</th>\n",
       "      <th>network_id</th>\n",
       "      <th>latitude</th>\n",
       "      <th>longitude</th>\n",
       "      <th>elevation</th>\n",
       "      <th>state</th>\n",
       "      <th>name</th>\n",
       "      <th>gsn_flag</th>\n",
       "      <th>hcn_flag</th>\n",
       "      <th>wm_oid</th>\n",
       "      <th>id</th>\n",
       "    </tr>\n",
       "    <tr>\n",
       "      <th>id</th>\n",
       "      <th></th>\n",
       "      <th></th>\n",
       "      <th></th>\n",
       "      <th></th>\n",
       "      <th></th>\n",
       "      <th></th>\n",
       "      <th></th>\n",
       "      <th></th>\n",
       "      <th></th>\n",
       "      <th></th>\n",
       "      <th></th>\n",
       "      <th></th>\n",
       "    </tr>\n",
       "  </thead>\n",
       "  <tbody>\n",
       "    <tr>\n",
       "      <th>US009052008</th>\n",
       "      <td>US</td>\n",
       "      <td>0</td>\n",
       "      <td>09052008</td>\n",
       "      <td>43.7333</td>\n",
       "      <td>-96.6333</td>\n",
       "      <td>482.0</td>\n",
       "      <td>SD</td>\n",
       "      <td>SIOUX FALLS (ENVIRON. CANADA)</td>\n",
       "      <td>NaN</td>\n",
       "      <td>NaN</td>\n",
       "      <td>NaN</td>\n",
       "      <td>US009052008</td>\n",
       "    </tr>\n",
       "    <tr>\n",
       "      <th>US10RMHS145</th>\n",
       "      <td>US</td>\n",
       "      <td>1</td>\n",
       "      <td>0RMHS145</td>\n",
       "      <td>40.5268</td>\n",
       "      <td>-105.1113</td>\n",
       "      <td>1569.1</td>\n",
       "      <td>CO</td>\n",
       "      <td>RMHS 1.6 SSW</td>\n",
       "      <td>NaN</td>\n",
       "      <td>NaN</td>\n",
       "      <td>NaN</td>\n",
       "      <td>US10RMHS145</td>\n",
       "    </tr>\n",
       "    <tr>\n",
       "      <th>US10adam001</th>\n",
       "      <td>US</td>\n",
       "      <td>1</td>\n",
       "      <td>0adam001</td>\n",
       "      <td>40.5680</td>\n",
       "      <td>-98.5069</td>\n",
       "      <td>598.0</td>\n",
       "      <td>NE</td>\n",
       "      <td>JUNIATA 1.5 S</td>\n",
       "      <td>NaN</td>\n",
       "      <td>NaN</td>\n",
       "      <td>NaN</td>\n",
       "      <td>US10adam001</td>\n",
       "    </tr>\n",
       "    <tr>\n",
       "      <th>US10adam002</th>\n",
       "      <td>US</td>\n",
       "      <td>1</td>\n",
       "      <td>0adam002</td>\n",
       "      <td>40.5093</td>\n",
       "      <td>-98.5493</td>\n",
       "      <td>601.1</td>\n",
       "      <td>NE</td>\n",
       "      <td>JUNIATA 6.0 SSW</td>\n",
       "      <td>NaN</td>\n",
       "      <td>NaN</td>\n",
       "      <td>NaN</td>\n",
       "      <td>US10adam002</td>\n",
       "    </tr>\n",
       "    <tr>\n",
       "      <th>US10adam003</th>\n",
       "      <td>US</td>\n",
       "      <td>1</td>\n",
       "      <td>0adam003</td>\n",
       "      <td>40.4663</td>\n",
       "      <td>-98.6537</td>\n",
       "      <td>615.1</td>\n",
       "      <td>NE</td>\n",
       "      <td>HOLSTEIN 0.1 NW</td>\n",
       "      <td>NaN</td>\n",
       "      <td>NaN</td>\n",
       "      <td>NaN</td>\n",
       "      <td>US10adam003</td>\n",
       "    </tr>\n",
       "  </tbody>\n",
       "</table>\n",
       "</div>"
      ],
      "text/plain": [
       "            country network network_id  latitude  longitude  elevation state  \\\n",
       "id                                                                             \n",
       "US009052008      US       0   09052008   43.7333   -96.6333      482.0    SD   \n",
       "US10RMHS145      US       1   0RMHS145   40.5268  -105.1113     1569.1    CO   \n",
       "US10adam001      US       1   0adam001   40.5680   -98.5069      598.0    NE   \n",
       "US10adam002      US       1   0adam002   40.5093   -98.5493      601.1    NE   \n",
       "US10adam003      US       1   0adam003   40.4663   -98.6537      615.1    NE   \n",
       "\n",
       "                                      name gsn_flag hcn_flag wm_oid  \\\n",
       "id                                                                    \n",
       "US009052008  SIOUX FALLS (ENVIRON. CANADA)      NaN      NaN    NaN   \n",
       "US10RMHS145                   RMHS 1.6 SSW      NaN      NaN    NaN   \n",
       "US10adam001                  JUNIATA 1.5 S      NaN      NaN    NaN   \n",
       "US10adam002                JUNIATA 6.0 SSW      NaN      NaN    NaN   \n",
       "US10adam003                HOLSTEIN 0.1 NW      NaN      NaN    NaN   \n",
       "\n",
       "                      id  \n",
       "id                        \n",
       "US009052008  US009052008  \n",
       "US10RMHS145  US10RMHS145  \n",
       "US10adam001  US10adam001  \n",
       "US10adam002  US10adam002  \n",
       "US10adam003  US10adam003  "
      ]
     },
     "execution_count": 15,
     "metadata": {},
     "output_type": "execute_result"
    }
   ],
   "source": [
    "st.head()"
   ]
  },
  {
   "cell_type": "code",
   "execution_count": 16,
   "metadata": {},
   "outputs": [
    {
     "data": {
      "text/html": [
       "<div>\n",
       "<style scoped>\n",
       "    .dataframe tbody tr th:only-of-type {\n",
       "        vertical-align: middle;\n",
       "    }\n",
       "\n",
       "    .dataframe tbody tr th {\n",
       "        vertical-align: top;\n",
       "    }\n",
       "\n",
       "    .dataframe thead th {\n",
       "        text-align: right;\n",
       "    }\n",
       "</style>\n",
       "<table border=\"1\" class=\"dataframe\">\n",
       "  <thead>\n",
       "    <tr style=\"text-align: right;\">\n",
       "      <th></th>\n",
       "      <th>country</th>\n",
       "      <th>network</th>\n",
       "      <th>network_id</th>\n",
       "      <th>latitude</th>\n",
       "      <th>longitude</th>\n",
       "      <th>elevation</th>\n",
       "      <th>state</th>\n",
       "      <th>name</th>\n",
       "      <th>gsn_flag</th>\n",
       "      <th>hcn_flag</th>\n",
       "      <th>wm_oid</th>\n",
       "      <th>id</th>\n",
       "    </tr>\n",
       "    <tr>\n",
       "      <th>id</th>\n",
       "      <th></th>\n",
       "      <th></th>\n",
       "      <th></th>\n",
       "      <th></th>\n",
       "      <th></th>\n",
       "      <th></th>\n",
       "      <th></th>\n",
       "      <th></th>\n",
       "      <th></th>\n",
       "      <th></th>\n",
       "      <th></th>\n",
       "      <th></th>\n",
       "    </tr>\n",
       "  </thead>\n",
       "  <tbody>\n",
       "    <tr>\n",
       "      <th>US1ALDK0019</th>\n",
       "      <td>US</td>\n",
       "      <td>1</td>\n",
       "      <td>ALDK0019</td>\n",
       "      <td>34.2108</td>\n",
       "      <td>-86.0761</td>\n",
       "      <td>329.5</td>\n",
       "      <td>AL</td>\n",
       "      <td>BOAZ 4.6 E</td>\n",
       "      <td>NaN</td>\n",
       "      <td>NaN</td>\n",
       "      <td>NaN</td>\n",
       "      <td>US1ALDK0019</td>\n",
       "    </tr>\n",
       "    <tr>\n",
       "      <th>US1ALMD0006</th>\n",
       "      <td>US</td>\n",
       "      <td>1</td>\n",
       "      <td>ALMD0006</td>\n",
       "      <td>34.9352</td>\n",
       "      <td>-86.5835</td>\n",
       "      <td>246.9</td>\n",
       "      <td>AL</td>\n",
       "      <td>HAZEL GREEN 1.2 NW</td>\n",
       "      <td>NaN</td>\n",
       "      <td>NaN</td>\n",
       "      <td>NaN</td>\n",
       "      <td>US1ALMD0006</td>\n",
       "    </tr>\n",
       "    <tr>\n",
       "      <th>US1ALMD0083</th>\n",
       "      <td>US</td>\n",
       "      <td>1</td>\n",
       "      <td>ALMD0083</td>\n",
       "      <td>34.9869</td>\n",
       "      <td>-86.6437</td>\n",
       "      <td>270.4</td>\n",
       "      <td>AL</td>\n",
       "      <td>HAZEL GREEN 6.2 NW</td>\n",
       "      <td>NaN</td>\n",
       "      <td>NaN</td>\n",
       "      <td>NaN</td>\n",
       "      <td>US1ALMD0083</td>\n",
       "    </tr>\n",
       "    <tr>\n",
       "      <th>US1ALMD0094</th>\n",
       "      <td>US</td>\n",
       "      <td>1</td>\n",
       "      <td>ALMD0094</td>\n",
       "      <td>34.9164</td>\n",
       "      <td>-86.6320</td>\n",
       "      <td>249.3</td>\n",
       "      <td>AL</td>\n",
       "      <td>HAZEL GREEN 3.7 W</td>\n",
       "      <td>NaN</td>\n",
       "      <td>NaN</td>\n",
       "      <td>NaN</td>\n",
       "      <td>US1ALMD0094</td>\n",
       "    </tr>\n",
       "    <tr>\n",
       "      <th>US1ARLG0001</th>\n",
       "      <td>US</td>\n",
       "      <td>1</td>\n",
       "      <td>ARLG0001</td>\n",
       "      <td>35.1918</td>\n",
       "      <td>-93.8307</td>\n",
       "      <td>185.6</td>\n",
       "      <td>AR</td>\n",
       "      <td>MAGAZINE 3.0 NNW</td>\n",
       "      <td>NaN</td>\n",
       "      <td>NaN</td>\n",
       "      <td>NaN</td>\n",
       "      <td>US1ARLG0001</td>\n",
       "    </tr>\n",
       "    <tr>\n",
       "      <th>...</th>\n",
       "      <td>...</td>\n",
       "      <td>...</td>\n",
       "      <td>...</td>\n",
       "      <td>...</td>\n",
       "      <td>...</td>\n",
       "      <td>...</td>\n",
       "      <td>...</td>\n",
       "      <td>...</td>\n",
       "      <td>...</td>\n",
       "      <td>...</td>\n",
       "      <td>...</td>\n",
       "      <td>...</td>\n",
       "    </tr>\n",
       "    <tr>\n",
       "      <th>USR0000TBRA</th>\n",
       "      <td>US</td>\n",
       "      <td>R</td>\n",
       "      <td>0000TBRA</td>\n",
       "      <td>29.1417</td>\n",
       "      <td>-95.2917</td>\n",
       "      <td>3.0</td>\n",
       "      <td>TX</td>\n",
       "      <td>BRAZORIA NWR TEXAS</td>\n",
       "      <td>NaN</td>\n",
       "      <td>NaN</td>\n",
       "      <td>NaN</td>\n",
       "      <td>USR0000TBRA</td>\n",
       "    </tr>\n",
       "    <tr>\n",
       "      <th>USW00012976</th>\n",
       "      <td>US</td>\n",
       "      <td>W</td>\n",
       "      <td>00012976</td>\n",
       "      <td>29.1097</td>\n",
       "      <td>-95.4619</td>\n",
       "      <td>7.6</td>\n",
       "      <td>TX</td>\n",
       "      <td>ANGLETON BRAZORIA AP</td>\n",
       "      <td>NaN</td>\n",
       "      <td>NaN</td>\n",
       "      <td>NaN</td>\n",
       "      <td>USW00012976</td>\n",
       "    </tr>\n",
       "    <tr>\n",
       "      <th>USW00013780</th>\n",
       "      <td>US</td>\n",
       "      <td>W</td>\n",
       "      <td>00013780</td>\n",
       "      <td>37.5333</td>\n",
       "      <td>-77.4167</td>\n",
       "      <td>49.4</td>\n",
       "      <td>VA</td>\n",
       "      <td>RICHMOND CHIMBORAZO PK</td>\n",
       "      <td>NaN</td>\n",
       "      <td>NaN</td>\n",
       "      <td>NaN</td>\n",
       "      <td>USW00013780</td>\n",
       "    </tr>\n",
       "    <tr>\n",
       "      <th>USW00053017</th>\n",
       "      <td>US</td>\n",
       "      <td>W</td>\n",
       "      <td>00053017</td>\n",
       "      <td>36.7500</td>\n",
       "      <td>-107.2189</td>\n",
       "      <td>2140.9</td>\n",
       "      <td>NM</td>\n",
       "      <td>AZTEC 43 E</td>\n",
       "      <td>NaN</td>\n",
       "      <td>NaN</td>\n",
       "      <td>NaN</td>\n",
       "      <td>USW00053017</td>\n",
       "    </tr>\n",
       "    <tr>\n",
       "      <th>USW00094815</th>\n",
       "      <td>US</td>\n",
       "      <td>W</td>\n",
       "      <td>00094815</td>\n",
       "      <td>42.2347</td>\n",
       "      <td>-85.5519</td>\n",
       "      <td>264.6</td>\n",
       "      <td>MI</td>\n",
       "      <td>KALAMAZOO BATTLE CK INTL AP</td>\n",
       "      <td>NaN</td>\n",
       "      <td>NaN</td>\n",
       "      <td>NaN</td>\n",
       "      <td>USW00094815</td>\n",
       "    </tr>\n",
       "  </tbody>\n",
       "</table>\n",
       "<p>146 rows × 12 columns</p>\n",
       "</div>"
      ],
      "text/plain": [
       "            country network network_id  latitude  longitude  elevation state  \\\n",
       "id                                                                             \n",
       "US1ALDK0019      US       1   ALDK0019   34.2108   -86.0761      329.5    AL   \n",
       "US1ALMD0006      US       1   ALMD0006   34.9352   -86.5835      246.9    AL   \n",
       "US1ALMD0083      US       1   ALMD0083   34.9869   -86.6437      270.4    AL   \n",
       "US1ALMD0094      US       1   ALMD0094   34.9164   -86.6320      249.3    AL   \n",
       "US1ARLG0001      US       1   ARLG0001   35.1918   -93.8307      185.6    AR   \n",
       "...             ...     ...        ...       ...        ...        ...   ...   \n",
       "USR0000TBRA      US       R   0000TBRA   29.1417   -95.2917        3.0    TX   \n",
       "USW00012976      US       W   00012976   29.1097   -95.4619        7.6    TX   \n",
       "USW00013780      US       W   00013780   37.5333   -77.4167       49.4    VA   \n",
       "USW00053017      US       W   00053017   36.7500  -107.2189     2140.9    NM   \n",
       "USW00094815      US       W   00094815   42.2347   -85.5519      264.6    MI   \n",
       "\n",
       "                                    name gsn_flag hcn_flag wm_oid           id  \n",
       "id                                                                              \n",
       "US1ALDK0019                   BOAZ 4.6 E      NaN      NaN    NaN  US1ALDK0019  \n",
       "US1ALMD0006           HAZEL GREEN 1.2 NW      NaN      NaN    NaN  US1ALMD0006  \n",
       "US1ALMD0083           HAZEL GREEN 6.2 NW      NaN      NaN    NaN  US1ALMD0083  \n",
       "US1ALMD0094            HAZEL GREEN 3.7 W      NaN      NaN    NaN  US1ALMD0094  \n",
       "US1ARLG0001             MAGAZINE 3.0 NNW      NaN      NaN    NaN  US1ARLG0001  \n",
       "...                                  ...      ...      ...    ...          ...  \n",
       "USR0000TBRA           BRAZORIA NWR TEXAS      NaN      NaN    NaN  USR0000TBRA  \n",
       "USW00012976         ANGLETON BRAZORIA AP      NaN      NaN    NaN  USW00012976  \n",
       "USW00013780       RICHMOND CHIMBORAZO PK      NaN      NaN    NaN  USW00013780  \n",
       "USW00053017                   AZTEC 43 E      NaN      NaN    NaN  USW00053017  \n",
       "USW00094815  KALAMAZOO BATTLE CK INTL AP      NaN      NaN    NaN  USW00094815  \n",
       "\n",
       "[146 rows x 12 columns]"
      ]
     },
     "execution_count": 16,
     "metadata": {},
     "output_type": "execute_result"
    }
   ],
   "source": [
    "st[st.name.str.contains('AZ')]"
   ]
  },
  {
   "cell_type": "markdown",
   "metadata": {},
   "source": [
    "### I begin by importing the gauge data from the United States using the ULMO package, and then sort by AZ to see if I could find anything in Arizona. I'm out of luck, but do find a gauge in New Mexico and use that."
   ]
  },
  {
   "cell_type": "code",
   "execution_count": 17,
   "metadata": {},
   "outputs": [],
   "source": [
    "data = ulmo.ncdc.ghcn_daily.get_data('USW00053017', as_dataframe=True)"
   ]
  },
  {
   "cell_type": "markdown",
   "metadata": {},
   "source": [
    "## This function returns dictionary with names of the variables as keys and pandas data frames with measurements as values"
   ]
  },
  {
   "cell_type": "code",
   "execution_count": 18,
   "metadata": {},
   "outputs": [
    {
     "data": {
      "text/html": [
       "<div>\n",
       "<style scoped>\n",
       "    .dataframe tbody tr th:only-of-type {\n",
       "        vertical-align: middle;\n",
       "    }\n",
       "\n",
       "    .dataframe tbody tr th {\n",
       "        vertical-align: top;\n",
       "    }\n",
       "\n",
       "    .dataframe thead th {\n",
       "        text-align: right;\n",
       "    }\n",
       "</style>\n",
       "<table border=\"1\" class=\"dataframe\">\n",
       "  <thead>\n",
       "    <tr style=\"text-align: right;\">\n",
       "      <th></th>\n",
       "      <th>value</th>\n",
       "      <th>mflag</th>\n",
       "      <th>qflag</th>\n",
       "      <th>sflag</th>\n",
       "    </tr>\n",
       "    <tr>\n",
       "      <th>month_period</th>\n",
       "      <th></th>\n",
       "      <th></th>\n",
       "      <th></th>\n",
       "      <th></th>\n",
       "    </tr>\n",
       "  </thead>\n",
       "  <tbody>\n",
       "    <tr>\n",
       "      <th>2010-09-01</th>\n",
       "      <td>255.0</td>\n",
       "      <td>NaN</td>\n",
       "      <td>NaN</td>\n",
       "      <td>R</td>\n",
       "    </tr>\n",
       "    <tr>\n",
       "      <th>2010-09-02</th>\n",
       "      <td>279.0</td>\n",
       "      <td>NaN</td>\n",
       "      <td>NaN</td>\n",
       "      <td>R</td>\n",
       "    </tr>\n",
       "    <tr>\n",
       "      <th>2010-09-03</th>\n",
       "      <td>267.0</td>\n",
       "      <td>NaN</td>\n",
       "      <td>NaN</td>\n",
       "      <td>R</td>\n",
       "    </tr>\n",
       "    <tr>\n",
       "      <th>2010-09-04</th>\n",
       "      <td>280.0</td>\n",
       "      <td>NaN</td>\n",
       "      <td>NaN</td>\n",
       "      <td>R</td>\n",
       "    </tr>\n",
       "    <tr>\n",
       "      <th>2010-09-05</th>\n",
       "      <td>270.0</td>\n",
       "      <td>NaN</td>\n",
       "      <td>NaN</td>\n",
       "      <td>R</td>\n",
       "    </tr>\n",
       "  </tbody>\n",
       "</table>\n",
       "</div>"
      ],
      "text/plain": [
       "              value mflag qflag sflag\n",
       "month_period                         \n",
       "2010-09-01    255.0   NaN   NaN     R\n",
       "2010-09-02    279.0   NaN   NaN     R\n",
       "2010-09-03    267.0   NaN   NaN     R\n",
       "2010-09-04    280.0   NaN   NaN     R\n",
       "2010-09-05    270.0   NaN   NaN     R"
      ]
     },
     "execution_count": 18,
     "metadata": {},
     "output_type": "execute_result"
    }
   ],
   "source": [
    "tm = data['TMAX'].copy()\n",
    "tm.head()"
   ]
  },
  {
   "cell_type": "markdown",
   "metadata": {},
   "source": [
    "### This is the max temperature at the gauge. These values are then divided by ten to get degrees C"
   ]
  },
  {
   "cell_type": "code",
   "execution_count": 19,
   "metadata": {},
   "outputs": [
    {
     "data": {
      "text/plain": [
       "<AxesSubplot:xlabel='month_period'>"
      ]
     },
     "execution_count": 19,
     "metadata": {},
     "output_type": "execute_result"
    },
    {
     "data": {
      "image/png": "[encoded data removed]",
      "text/plain": [
       "<Figure size 432x288 with 1 Axes>"
      ]
     },
     "metadata": {
      "needs_background": "light"
     },
     "output_type": "display_data"
    }
   ],
   "source": [
    "tm['value']['2010':'2015'].plot()"
   ]
  },
  {
   "cell_type": "markdown",
   "metadata": {},
   "source": [
    "### I get this plot returned, showing the max temperature recorded at the gauge in AZTEC 43 E in New Mexico, daily, since 2010"
   ]
  },
  {
   "cell_type": "code",
   "execution_count": 20,
   "metadata": {},
   "outputs": [
    {
     "data": {
      "image/png": "[encoded data removed]",
      "text/plain": [
       "<Figure size 432x288 with 1 Axes>"
      ]
     },
     "metadata": {
      "needs_background": "light"
     },
     "output_type": "display_data"
    }
   ],
   "source": [
    "tm.value = tm.value.astype('float')\n",
    "tm['2010':'2015'].value.resample('A').plot()\n",
    "title('Annual mean daily maximum temperature in Aztek, New Mexico')\n",
    "fig.savefig(\"NM_Temperature\")"
   ]
  },
  {
   "cell_type": "markdown",
   "metadata": {},
   "source": [
    "### And finally, I'm able to further modify my graph to look like this, with years color sorted, and a title added. "
   ]
  }
 ],
 "metadata": {
  "interpreter": {
   "hash": "10676dd8a16fae1acf2ab438942848b8119f14f584dca5f78eaaaa652a7e2651"
  },
  "kernelspec": {
   "display_name": "Python 3.8.10 64-bit ('hastools': conda)",
   "language": "python",
   "name": "python3"
  },
  "language_info": {
   "codemirror_mode": {
    "name": "ipython",
    "version": 3
   },
   "file_extension": ".py",
   "mimetype": "text/x-python",
   "name": "python",
   "nbconvert_exporter": "python",
   "pygments_lexer": "ipython3",
   "version": "3.8.12"
  },
  "orig_nbformat": 4
 },
 "nbformat": 4,
 "nbformat_minor": 2
}
